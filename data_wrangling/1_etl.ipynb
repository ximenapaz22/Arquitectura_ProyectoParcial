{
 "cells": [
  {
   "cell_type": "markdown",
   "metadata": {},
   "source": [
    "# Quién es quién en los precios "
   ]
  },
  {
   "cell_type": "markdown",
   "metadata": {},
   "source": [
    "Creando la sesión de spark"
   ]
  },
  {
   "cell_type": "code",
   "execution_count": null,
   "metadata": {},
   "outputs": [],
   "source": [
    "from pyspark.sql import SparkSession\n",
    "import pandas as pd\n",
    "\n",
    "# Crear una sesión de Spark\n",
    "spark = SparkSession.builder \\\n",
    "    .appName(\"Proyecto Parcial Arquitectura\") \\\n",
    "    .getOrCreate()"
   ]
  },
  {
   "cell_type": "markdown",
   "metadata": {},
   "source": [
    "Cargando los datos"
   ]
  },
  {
   "cell_type": "code",
   "execution_count": null,
   "metadata": {},
   "outputs": [],
   "source": [
    "df3 = spark.read.option(\"delimiter\", \"|\").option(\"header\", True).csv(\"combined_with_names_fixed.csv\")\n",
    "\n",
    "df3.printSchema()"
   ]
  },
  {
   "cell_type": "markdown",
   "metadata": {},
   "source": [
    "1. Guardar el CSV como parquet en S3, particionalo por catalogo"
   ]
  },
  {
   "cell_type": "markdown",
   "metadata": {},
   "source": [
    "df3.write.partitionBy(\"catalogo\").parquet(\"parquets/df_por_catalogo\")"
   ]
  },
  {
   "cell_type": "markdown",
   "metadata": {},
   "source": [
    "2. Carga el parquet en Spark"
   ]
  },
  {
   "cell_type": "code",
   "execution_count": null,
   "metadata": {},
   "outputs": [],
   "source": [
    "df_parquet_byCat = spark.read.parquet(\"parquets/df_por_catalogo\")"
   ]
  },
  {
   "cell_type": "markdown",
   "metadata": {},
   "source": [
    "¿Cuántos catálogos diferentes tenemos? (por año)"
   ]
  },
  {
   "cell_type": "code",
   "execution_count": null,
   "metadata": {},
   "outputs": [],
   "source": [
    "from pyspark.sql.functions import year, col, countDistinct\n",
    "\n",
    "df_parquet = df_parquet.withColumn(\"Year\", year(col(\"fecharegistro\").cast(\"date\")))\n",
    "df_parquet = df_parquet.withColumn(\"Year\", year(\"fecharegistro\"))\n",
    "\n",
    "# Count unique catalogo by Year\n",
    "unique_counts = df_parquet.groupBy(\"Year\").agg(countDistinct(\"catalogo\").alias(\"UniqueCatalogo\"))\n",
    "\n",
    "# Show the results\n",
    "unique_counts.show()"
   ]
  },
  {
   "attachments": {
    "image.png": {
     "image/png": "[encoded data removed]"
    }
   },
   "cell_type": "markdown",
   "metadata": {},
   "source": [
    "Y obtenemos:\n",
    "\n",
    "![image.png](attachment:image.png)"
   ]
  },
  {
   "cell_type": "markdown",
   "metadata": {},
   "source": [
    "¿Cuáles son los 20 catálogos con más observaciones? Guarda la salida de este query en tu bucket de S3, lo necesitaremos más adelante.\n",
    "\n",
    "Para esta pregunta usamos el top 5 pero dejamos la posibilidad de cambiar el parámetro para obtener los n catálogos con más observaciones."
   ]
  },
  {
   "cell_type": "code",
   "execution_count": null,
   "metadata": {},
   "outputs": [],
   "source": [
    "from pyspark.sql import SparkSession\n",
    "from pyspark.sql.functions import count, col, row_number\n",
    "from pyspark.sql.window import Window\n",
    "\n",
    "# Realizar la agrupación por 'catalogo' y 'Year', y calcular el conteo\n",
    "catalogos_populares = df_parquet.groupBy(\"catalogo\", \"Year\").agg(count(\"*\").alias(\"Conteo\"))\n",
    "\n",
    "# Definir una ventana particionada por año y ordenada por el conteo descendente\n",
    "windowSpec = Window.partitionBy(\"Year\").orderBy(col(\"Conteo\").desc())\n",
    "\n",
    "# Aplicar row_number sobre cada partición de la ventana para obtener los rankings\n",
    "catalogos_populares = catalogos_populares.withColumn(\"row_num\", row_number().over(windowSpec))\n",
    "\n",
    "# Filtrar para obtener los top N catálogos por año\n",
    "top_n = 5  # Define cuántos top catálogos quieres obtener\n",
    "top_catalogos_populares = catalogos_populares.filter(col(\"row_num\") <= top_n).drop(\"row_num\")\n",
    "\n",
    "# Mostrar los resultados finales\n",
    "top_catalogos_populares.show()\n"
   ]
  },
  {
   "cell_type": "markdown",
   "metadata": {},
   "source": [
    "¿Tenemos datos de todos los estados del país? De no ser así, ¿cuáles faltan?"
   ]
  },
  {
   "cell_type": "code",
   "execution_count": null,
   "metadata": {},
   "outputs": [],
   "source": [
    "from pyspark.sql.functions import col\n",
    "\n",
    "# Extraer los estados distintos\n",
    "df_estados = df_parquet.select(\"estado\").distinct()\n",
    "\n",
    "# Contar registros por estado\n",
    "df_estados_presentes = df_parquet.select(\"estado\", \"Year\").distinct()\n",
    "\n",
    "# Extraer todos los años distintos presentes en df_parquet\n",
    "df_anos = df_parquet.select(\"Year\").distinct()\n",
    "\n",
    "# Crear todas las combinaciones posibles de estados y años\n",
    "df_combinaciones = df_estados.crossJoin(df_anos)\n",
    "\n",
    "# Realizar un left anti join para encontrar las combinaciones que no están en los datos presentes\n",
    "estados_faltantes = df_combinaciones.join(df_estados_presentes, [\"estado\", \"Year\"], \"left_anti\")\n",
    "\n",
    "# Mostrar los estados faltantes por año\n",
    "estados_faltantes.show()\n"
   ]
  },
  {
   "cell_type": "markdown",
   "metadata": {},
   "source": [
    "¿Cuántas observaciones tenemos por estado?"
   ]
  },
  {
   "cell_type": "code",
   "execution_count": null,
   "metadata": {},
   "outputs": [],
   "source": [
    "df_conteo_estado_anio = df_parquet.groupBy(\"Year\", \"estado\").agg(count(\"*\").alias(\"Conteo\"))\n",
    "df_conteo_estado_anio.show()"
   ]
  },
  {
   "cell_type": "markdown",
   "metadata": {},
   "source": [
    "Para cada año, de cada estado obten: el número de catalogos diferentes por año, ¿ha aumentado el número de catálogos con el tiempo?"
   ]
  },
  {
   "cell_type": "code",
   "execution_count": null,
   "metadata": {},
   "outputs": [],
   "source": [
    "df_catalogos_anio = df_parquet.groupBy(\"Year\", \"catalogo\").agg(count(\"*\").alias(\"Conteo\"))"
   ]
  },
  {
   "cell_type": "markdown",
   "metadata": {},
   "source": [
    "### Para el catálogo de \"frutas y legumbres procesadas\""
   ]
  },
  {
   "cell_type": "markdown",
   "metadata": {},
   "source": [
    "¿Cuańtas marcas diferentes tiene tu categoría? Para esta pregunta se toma la columna de \"producto\" como marca, ya que al ser frutas, carecen de marca. De modo que las preguntas que hagan referencia a marcas, se refieren a frutas o legumbres."
   ]
  },
  {
   "cell_type": "code",
   "execution_count": null,
   "metadata": {},
   "outputs": [],
   "source": [
    "df_marcas_distintas= df_parquet.filter(df_parquet[\"catalogo\"]==\"frutas y legumbres procesadas\").select(\"producto\").distinct()\n",
    "df_marcas_distintas.show()"
   ]
  },
  {
   "cell_type": "markdown",
   "metadata": {},
   "source": [
    "¿Cuál es la marca con mayor precio? ¿En qué estado?"
   ]
  },
  {
   "cell_type": "code",
   "execution_count": null,
   "metadata": {},
   "outputs": [],
   "source": []
  },
  {
   "cell_type": "markdown",
   "metadata": {},
   "source": [
    "¿Cuál es la marca con menor precio en CDMX? (en aquel entonces Distrito Federal)"
   ]
  },
  {
   "cell_type": "markdown",
   "metadata": {},
   "source": [
    "¿Cuál es la marca con mayores observaciones?"
   ]
  },
  {
   "cell_type": "markdown",
   "metadata": {},
   "source": [
    "¿Cuáles son el top 5 de marcas con mayor precio en cada estado? ¿Son diferentes?"
   ]
  },
  {
   "cell_type": "markdown",
   "metadata": {},
   "source": [
    "¿Cuáles son el top 5 de marcas con menor precio en CDMX? (en aquel entonces Distrito Federal)"
   ]
  },
  {
   "cell_type": "markdown",
   "metadata": {},
   "source": [
    "¿Cuáles son el top 5 de marcas con mayores observaciones? ¿Se parecen a las de nivel por estado?"
   ]
  },
  {
   "cell_type": "markdown",
   "metadata": {},
   "source": [
    "¿Ha dejado de existir alguna marca durante los años que tienes? ¿Cuál? ¿Cuándo desapareció?"
   ]
  },
  {
   "cell_type": "markdown",
   "metadata": {},
   "source": [
    "Genera una gráfica de serie de tiempo por estado para la marca con mayor precio -en todos los años-, donde el eje equis es el año y el eje ye es el precio máximo."
   ]
  }
 ],
 "metadata": {
  "language_info": {
   "name": "python"
  }
 },
 "nbformat": 4,
 "nbformat_minor": 2
}
