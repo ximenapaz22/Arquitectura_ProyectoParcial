{
 "cells": [
  {
   "cell_type": "markdown",
   "metadata": {},
   "source": [
    "## Parte B"
   ]
  },
  {
   "cell_type": "code",
   "execution_count": 4,
   "metadata": {},
   "outputs": [],
   "source": [
    "# Abrimos un cliente de S3\n",
    "import boto3\n",
    "session = boto3.Session()\n",
    "s3 = session.client('s3')"
   ]
  },
  {
   "cell_type": "code",
   "execution_count": 9,
   "metadata": {},
   "outputs": [],
   "source": [
    "# Importamos awswrangler\n",
    "import awswrangler as wr"
   ]
  },
  {
   "cell_type": "markdown",
   "metadata": {},
   "source": [
    "Para el catálogo de frutas y legumbres...\n",
    "\n",
    "NOTA: \n",
    "Se lee directo la tabla particionada para que no tener problemas con memoria ni tener queries costosos."
   ]
  },
  {
   "cell_type": "markdown",
   "metadata": {},
   "source": [
    "#### ¿De qué año a qué año tienen datos de esa categoría?"
   ]
  },
  {
   "cell_type": "code",
   "execution_count": 38,
   "metadata": {
    "scrolled": true
   },
   "outputs": [
    {
     "name": "stdout",
     "output_type": "stream",
     "text": [
      "   ANIO_INICIAL  ANIO_FINAL\n",
      "0          2018        2024\n"
     ]
    }
   ],
   "source": [
    "query = '''\n",
    "    SELECT \n",
    "        MIN(EXTRACT(YEAR FROM fecharegistro)) AS ANIO_INICIAL,\n",
    "        MAX(EXTRACT(YEAR FROM fecharegistro)) AS ANIO_FINAL\n",
    "    FROM\n",
    "        profeco_db.profeco;\n",
    "'''\n",
    "\n",
    "df = wr.athena.read_sql_query(\n",
    "    query, \n",
    "    database=\"profeco_db\",\n",
    "    ctas_approach=False, \n",
    "    boto3_session=session\n",
    ")\n",
    "\n",
    "print(df)"
   ]
  },
  {
   "cell_type": "markdown",
   "metadata": {},
   "source": [
    "#### ¿Cuántos registros de fecha hay vacíos?"
   ]
  },
  {
   "cell_type": "code",
   "execution_count": 37,
   "metadata": {},
   "outputs": [
    {
     "name": "stdout",
     "output_type": "stream",
     "text": [
      "   _col0\n",
      "0      0\n"
     ]
    }
   ],
   "source": [
    "query = '''\n",
    "    SELECT\n",
    "        COUNT(*)\n",
    "    FROM\n",
    "        profeco_db.profeco\n",
    "    WHERE\n",
    "        fecharegistro IS NULL;\n",
    "'''\n",
    "\n",
    "df = wr.athena.read_sql_query(\n",
    "    query, \n",
    "    database=\"profeco_db\",\n",
    "    ctas_approach=False, \n",
    "    boto3_session=session\n",
    ")\n",
    "\n",
    "print(df)"
   ]
  },
  {
   "cell_type": "markdown",
   "metadata": {},
   "source": [
    "#### ¿Cuántos registros tienes por año?"
   ]
  },
  {
   "cell_type": "code",
   "execution_count": 36,
   "metadata": {},
   "outputs": [
    {
     "name": "stdout",
     "output_type": "stream",
     "text": [
      "   ANIO  REGISTROS\n",
      "0  2021     756850\n",
      "1  2022     926031\n",
      "2  2018     938616\n",
      "3  2023     861829\n",
      "4  2024     211839\n",
      "5  2019     702747\n",
      "6  2020     643820\n"
     ]
    }
   ],
   "source": [
    "query = '''\n",
    "    SELECT\n",
    "        EXTRACT(YEAR FROM fecharegistro) AS ANIO,\n",
    "        COUNT(*) AS REGISTROS\n",
    "    FROM\n",
    "        profeco_db.profeco\n",
    "    GROUP BY\n",
    "        EXTRACT(YEAR FROM fecharegistro);\n",
    "'''\n",
    "\n",
    "df = wr.athena.read_sql_query(\n",
    "    query, \n",
    "    database=\"profeco_db\",\n",
    "    ctas_approach=False, \n",
    "    boto3_session=session\n",
    ")\n",
    "\n",
    "print(df)"
   ]
  },
  {
   "cell_type": "markdown",
   "metadata": {},
   "source": [
    "#### ¿Cuál es el precio mínimo, máximo, promedio, desviación estándar, mediana, cuantil 25 y 75% de tu categoría por año?"
   ]
  },
  {
   "cell_type": "code",
   "execution_count": 39,
   "metadata": {},
   "outputs": [
    {
     "name": "stdout",
     "output_type": "stream",
     "text": [
      "   ANIO  MINIMO  MAXIMO   PROMEDIO  DESVIACION    MEDIANA  CUANTIL_25  \\\n",
      "0  2019     1.9   380.0  31.656408   27.810392  24.004609   15.777440   \n",
      "1  2020     1.0   350.0  33.395927   27.988478  25.804951   16.318612   \n",
      "2  2021     2.0   470.0  36.047864   29.815307  27.435666   17.242742   \n",
      "3  2022     1.9   479.0  40.779887   33.103581  31.538468   20.217637   \n",
      "4  2023     2.0   543.5  42.970440   36.531773  33.823845   21.663103   \n",
      "5  2018     1.9   440.0  29.267696   25.660128  21.946328   14.678832   \n",
      "6  2024     3.0   480.0  46.141206   38.415075  37.636392   23.693595   \n",
      "\n",
      "   CUANTIL_75  \n",
      "0   38.808874  \n",
      "1   40.145321  \n",
      "2   45.110894  \n",
      "3   50.448527  \n",
      "4   51.930877  \n",
      "5   36.065735  \n",
      "6   54.833927  \n"
     ]
    }
   ],
   "source": [
    "query = '''\n",
    "    SELECT\n",
    "        EXTRACT(YEAR FROM fecharegistro) AS ANIO,\n",
    "        MIN(precio) AS MINIMO,\n",
    "        MAX(precio) AS MAXIMO,\n",
    "        AVG(precio) AS PROMEDIO,\n",
    "        STDDEV(precio) AS DESVIACION,\n",
    "        APPROX_PERCENTILE(precio, 0.5) AS MEDIANA,\n",
    "        APPROX_PERCENTILE(precio, 0.25) AS CUANTIL_25,\n",
    "        APPROX_PERCENTILE(precio, 0.75) AS CUANTIL_75\n",
    "    FROM\n",
    "        profeco_db.profeco\n",
    "    GROUP BY\n",
    "        EXTRACT(YEAR FROM fecharegistro);\n",
    "'''\n",
    "\n",
    "df = wr.athena.read_sql_query(\n",
    "    query, \n",
    "    database=\"profeco_db\",\n",
    "    ctas_approach=False, \n",
    "    boto3_session=session\n",
    ")\n",
    "\n",
    "print(df)"
   ]
  },
  {
   "cell_type": "markdown",
   "metadata": {},
   "source": [
    "#### ¿Cuáles son el top 5 de marcas con mayor precio en cada estado? ¿Verifica si te dió lo mismo en Spark?"
   ]
  },
  {
   "cell_type": "code",
   "execution_count": 44,
   "metadata": {},
   "outputs": [
    {
     "name": "stdout",
     "output_type": "stream",
     "text": [
      "              estado producto  precio\n",
      "0            hidalgo  jamaica   329.0\n",
      "1            hidalgo  jamaica   329.0\n",
      "2            hidalgo  jamaica   329.0\n",
      "3            hidalgo  jamaica   289.9\n",
      "4            hidalgo  jamaica   289.9\n",
      "..               ...      ...     ...\n",
      "155  baja california  jamaica   399.9\n",
      "156  baja california  jamaica   399.9\n",
      "157  baja california  jamaica   399.9\n",
      "158  baja california  jamaica   399.9\n",
      "159  baja california  jamaica   399.9\n",
      "\n",
      "[160 rows x 3 columns]\n"
     ]
    }
   ],
   "source": [
    "query = '''\n",
    "    SELECT \n",
    "        estado,\n",
    "        producto,\n",
    "        precio\n",
    "    FROM\n",
    "        (\n",
    "            SELECT\n",
    "                estado,\n",
    "                producto,\n",
    "                precio,\n",
    "                ROW_NUMBER() OVER (PARTITION BY estado ORDER BY precio DESC) AS RN\n",
    "            FROM\n",
    "                profeco_db.profeco\n",
    "        )\n",
    "    WHERE\n",
    "        RN <= 5;\n",
    "'''\n",
    "\n",
    "df = wr.athena.read_sql_query(\n",
    "    query, \n",
    "    database=\"profeco_db\",\n",
    "    ctas_approach=False, \n",
    "    boto3_session=session\n",
    ")\n",
    "\n",
    "print(df)"
   ]
  },
  {
   "cell_type": "markdown",
   "metadata": {},
   "source": [
    "Al hacer varias pruebas, observamos que los datos son consistentes con lo que se obtuvo en Spark."
   ]
  },
  {
   "cell_type": "markdown",
   "metadata": {},
   "source": [
    "#### ¿Cuáles son el top 5 de marcas con menor precio en CDMX? (en aquel entonces Distrito Federal) ¿Verifica si te dió lo mismo en Spark?"
   ]
  },
  {
   "cell_type": "code",
   "execution_count": 45,
   "metadata": {},
   "outputs": [
    {
     "name": "stdout",
     "output_type": "stream",
     "text": [
      "             estado producto  precio\n",
      "0  ciudad de mexico    elote     1.0\n",
      "1  ciudad de mexico    elote     1.0\n",
      "2  ciudad de mexico    elote     1.0\n",
      "3  ciudad de mexico    elote     1.9\n",
      "4  ciudad de mexico    elote     1.9\n"
     ]
    }
   ],
   "source": [
    "query = '''\n",
    "    SELECT \n",
    "        estado,\n",
    "        producto,\n",
    "        precio\n",
    "    FROM\n",
    "        (\n",
    "            SELECT\n",
    "                estado,\n",
    "                producto,\n",
    "                precio,\n",
    "                ROW_NUMBER() OVER (PARTITION BY estado ORDER BY precio ASC) AS RN\n",
    "            FROM\n",
    "                profeco_db.profeco\n",
    "        )\n",
    "    WHERE\n",
    "        RN <= 5 AND estado='ciudad de mexico';\n",
    "'''\n",
    "\n",
    "df = wr.athena.read_sql_query(\n",
    "    query, \n",
    "    database=\"profeco_db\",\n",
    "    ctas_approach=False, \n",
    "    boto3_session=session\n",
    ")\n",
    "\n",
    "print(df)"
   ]
  },
  {
   "cell_type": "markdown",
   "metadata": {},
   "source": [
    "Los resultados obtenidos son los mismos que en Spark."
   ]
  },
  {
   "cell_type": "markdown",
   "metadata": {},
   "source": [
    "#### ¿Cuáles son el top 5 de marcas con mayores observaciones? ¿Se parecen a las de nivel por estado? ¿Verifica si te dió lo mismo en Spark?"
   ]
  },
  {
   "cell_type": "code",
   "execution_count": 46,
   "metadata": {},
   "outputs": [
    {
     "name": "stdout",
     "output_type": "stream",
     "text": [
      "       producto  OBSERVACIONES\n",
      "0  chile fresco         394568\n",
      "1       manzana         273092\n",
      "2       cebolla         179824\n",
      "3       platano         177399\n",
      "4         limon         165295\n"
     ]
    }
   ],
   "source": [
    "query = '''\n",
    "    SELECT \n",
    "        producto,\n",
    "        COUNT(*) AS OBSERVACIONES\n",
    "    FROM\n",
    "        profeco_db.profeco\n",
    "    GROUP BY\n",
    "        producto\n",
    "    ORDER BY\n",
    "        OBSERVACIONES DESC\n",
    "    LIMIT 5;\n",
    "'''\n",
    "\n",
    "df = wr.athena.read_sql_query(\n",
    "    query, \n",
    "    database=\"profeco_db\",\n",
    "    ctas_approach=False, \n",
    "    boto3_session=session\n",
    ")\n",
    "\n",
    "print(df)"
   ]
  },
  {
   "cell_type": "markdown",
   "metadata": {},
   "source": [
    "Es exactamente lo mismo que se obtuvo en Spark."
   ]
  },
  {
   "cell_type": "markdown",
   "metadata": {},
   "source": [
    "#### Genera un boxplot por año, para cada una de las top 5 marcas de tu categoría\n",
    "Para esta gráfica usamos R. Podemos recrear la gráfica con este código: "
   ]
  },
  {
   "cell_type": "code",
   "execution_count": null,
   "metadata": {
    "vscode": {
     "languageId": "r"
    }
   },
   "outputs": [],
   "source": [
    "ggplot(mas_observados_df,\n",
    "       aes(x = Year,\n",
    "           y = precio)) +\n",
    "  geom_boxplot() +\n",
    "  stat_summary(fun = mean, geom = \"point\",\n",
    "               color = \"darkblue\",\n",
    "               size = 2) +\n",
    "  geom_line(aes(group = producto),\n",
    "            stat = \"summary\",\n",
    "            fun = mean,\n",
    "            color = \"cyan4\",\n",
    "            linetype = \"dotted\",\n",
    "            linewidth = 1) +\n",
    "  facet_grid(producto ~ .,\n",
    "             scales = \"free\") +\n",
    "  theme_minimal() +\n",
    "  labs(title = \"Precios de los productos más observados \n",
    "  (ordenados de mayor a menor)\",\n",
    "       x = \"Año\",\n",
    "       y = \"Precio\")"
   ]
  },
  {
   "attachments": {
    "Screenshot 2024-04-26 234241.png": {
     "image/png": "[encoded data removed]"
    }
   },
   "cell_type": "markdown",
   "metadata": {},
   "source": [
    "![Screenshot 2024-04-26 234241.png](<attachment:Screenshot 2024-04-26 234241.png>)\n"
   ]
  },
  {
   "cell_type": "markdown",
   "metadata": {},
   "source": []
  }
 ],
 "metadata": {
  "kernelspec": {
   "display_name": "Python 3 (ipykernel)",
   "language": "python",
   "name": "python3"
  },
  "language_info": {
   "codemirror_mode": {
    "name": "ipython",
    "version": 3
   },
   "file_extension": ".py",
   "mimetype": "text/x-python",
   "name": "python",
   "nbconvert_exporter": "python",
   "pygments_lexer": "ipython3",
   "version": "3.11.4"
  }
 },
 "nbformat": 4,
 "nbformat_minor": 2
}
