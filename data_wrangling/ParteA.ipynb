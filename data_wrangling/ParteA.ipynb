{
 "cells": [
  {
   "cell_type": "code",
   "execution_count": 19,
   "id": "c1b500bd-c2f3-4c3c-8038-2ef68d54dc2e",
   "metadata": {},
   "outputs": [
    {
     "data": {
      "application/vnd.jupyter.widget-view+json": {
       "model_id": "",
       "version_major": 2,
       "version_minor": 0
      },
      "text/plain": [
       "FloatProgress(value=0.0, bar_style='info', description='Progress:', layout=Layout(height='25px', width='50%'),…"
      ]
     },
     "metadata": {},
     "output_type": "display_data"
    }
   ],
   "source": [
    "from pyspark.sql.window import Window\n",
    "from pyspark.sql.functions import year, col, row_number, collect_set, max as max_, min as min_, lit, countDistinct, lag, size\n",
    "from pyspark.sql.types import StringType"
   ]
  },
  {
   "cell_type": "code",
   "execution_count": 3,
   "id": "56be0332-0706-4190-8259-343ff4a3647e",
   "metadata": {},
   "outputs": [
    {
     "data": {
      "application/vnd.jupyter.widget-view+json": {
       "model_id": "",
       "version_major": 2,
       "version_minor": 0
      },
      "text/plain": [
       "FloatProgress(value=0.0, bar_style='info', description='Progress:', layout=Layout(height='25px', width='50%'),…"
      ]
     },
     "metadata": {},
     "output_type": "display_data"
    }
   ],
   "source": [
    "from pyspark.sql import SparkSession\n",
    "import pyspark.sql.functions as f\n",
    "spark = SparkSession.builder.getOrCreate()"
   ]
  },
  {
   "cell_type": "code",
   "execution_count": 4,
   "id": "97cfb891-1e00-4e6c-8043-52c2eb82af0c",
   "metadata": {},
   "outputs": [
    {
     "data": {
      "application/vnd.jupyter.widget-view+json": {
       "model_id": "",
       "version_major": 2,
       "version_minor": 0
      },
      "text/plain": [
       "FloatProgress(value=0.0, bar_style='info', description='Progress:', layout=Layout(height='25px', width='50%'),…"
      ]
     },
     "metadata": {},
     "output_type": "display_data"
    },
    {
     "name": "stdout",
     "output_type": "stream",
     "text": [
      "<pyspark.sql.session.SparkSession object at 0x7fe5a3552d90>"
     ]
    }
   ],
   "source": [
    "spark"
   ]
  },
  {
   "cell_type": "markdown",
   "id": "c1394ecc-5b44-4fd1-a316-aa02446e7c2c",
   "metadata": {},
   "source": [
    "Carga del CSV en Spark"
   ]
  },
  {
   "cell_type": "code",
   "execution_count": 7,
   "id": "a0f5f506-6255-4177-be43-1ab5f9ff4495",
   "metadata": {},
   "outputs": [
    {
     "data": {
      "application/vnd.jupyter.widget-view+json": {
       "model_id": "",
       "version_major": 2,
       "version_minor": 0
      },
      "text/plain": [
       "FloatProgress(value=0.0, bar_style='info', description='Progress:', layout=Layout(height='25px', width='50%'),…"
      ]
     },
     "metadata": {},
     "output_type": "display_data"
    },
    {
     "name": "stdout",
     "output_type": "stream",
     "text": [
      "+--------------------+--------------------+----------------+--------------------+------------------+\n",
      "|            producto|        presentacion|           marca|           categoria|          catalogo|\n",
      "+--------------------+--------------------+----------------+--------------------+------------------+\n",
      "|             a.s.cor|frasco gotero 24 ...|             s/m|        medicamentos|      medicamentos|\n",
      "|              aceite|botella 1 lt. veg...|           1-2-3|aceites y grasas ...|           basicos|\n",
      "|              aceite|botella 850 ml. v...|             ave|aceites y grasas ...|             pacic|\n",
      "|              aceite|botella 946 ml. c...|          canoil|aceites y grasas ...|           basicos|\n",
      "|              aceite|botella 840 ml. c...|         capullo|aceites y grasas ...|           basicos|\n",
      "|              aceite|botella 900 ml. v...|  gran tradicion|aceites y grasas ...|           basicos|\n",
      "|              aceite|botella 765 ml. maiz|          mazola|aceites y grasas ...|           basicos|\n",
      "|              aceite|botella 800 ml. v...|      precissimo|aceites y grasas ...|           basicos|\n",
      "|              aceite|botella 850 ml. v...|       sabrosano|aceites y grasas ...|           basicos|\n",
      "|     aceite de oliva|botella 750 ml. e...|       carbonell|productos de temp...|           basicos|\n",
      "|            aceituna|frasco 240 gr. ma...|          bufalo|productos de temp...|           basicos|\n",
      "|              acelga|              manojo|             s/m|  hortalizas frescas|frutas y legumbres|\n",
      "|           aciclovir|25 comprimidos de...|             s/m|        medicamentos|      medicamentos|\n",
      "|           aciclovir|caja con tubo con...|             s/m|        medicamentos|      medicamentos|\n",
      "|        acido folico|caja con 20 table...|             s/m|        medicamentos|      medicamentos|\n",
      "|           aclimafel|caja con 20 capsu...|             s/m|        medicamentos|      medicamentos|\n",
      "|acondicionador y ...|envase 300 ml. pr...|head & shoulders|arts. para el cui...|           basicos|\n",
      "|acondicionador y ...|botella 500 ml. c...|         pantene|arts. para el cui...|           basicos|\n",
      "|acondicionador y ...|botella 700 ml. r...|         pantene|arts. para el cui...|           basicos|\n",
      "|         adalat oros|caja con 30 table...|             s/m|        medicamentos|      medicamentos|\n",
      "+--------------------+--------------------+----------------+--------------------+------------------+\n",
      "only showing top 20 rows"
     ]
    }
   ],
   "source": [
    "df = spark.read.option(\"delimiter\", \"|\").csv(\"s3://itam-analytics-erwin/quien_es_quien/quien_es_quien.csv\", header=True, inferSchema=True)\n",
    "df.select(df.columns[0], df.columns[1], df.columns[2], df.columns[3], df.columns[4]).show()"
   ]
  },
  {
   "cell_type": "markdown",
   "id": "163e0252-f5fc-476a-937a-cd9fffd1053d",
   "metadata": {},
   "source": [
    "Guarda el CSV como parquet en S3, particionalo por catalogo."
   ]
  },
  {
   "cell_type": "code",
   "execution_count": 8,
   "id": "46ff429e-d022-4847-b10b-4a091f6b024d",
   "metadata": {},
   "outputs": [
    {
     "data": {
      "application/vnd.jupyter.widget-view+json": {
       "model_id": "",
       "version_major": 2,
       "version_minor": 0
      },
      "text/plain": [
       "FloatProgress(value=0.0, bar_style='info', description='Progress:', layout=Layout(height='25px', width='50%'),…"
      ]
     },
     "metadata": {},
     "output_type": "display_data"
    }
   ],
   "source": [
    "df.write.parquet(\"s3://itam-analytics-erwin/partition_qeq/\", mode=\"overwrite\", partitionBy=[\"catalogo\"])"
   ]
  },
  {
   "cell_type": "markdown",
   "id": "eaeb6268-c2ea-4d08-adb3-98b600123d76",
   "metadata": {},
   "source": [
    "Carga el parquet en Spark"
   ]
  },
  {
   "cell_type": "code",
   "execution_count": 9,
   "id": "64e0070d-4039-40c5-aa47-60696c6d4e18",
   "metadata": {},
   "outputs": [
    {
     "data": {
      "application/vnd.jupyter.widget-view+json": {
       "model_id": "",
       "version_major": 2,
       "version_minor": 0
      },
      "text/plain": [
       "FloatProgress(value=0.0, bar_style='info', description='Progress:', layout=Layout(height='25px', width='50%'),…"
      ]
     },
     "metadata": {},
     "output_type": "display_data"
    }
   ],
   "source": [
    "df_data = spark.read.parquet(\"s3://itam-analytics-erwin/partition_qeq/\")"
   ]
  },
  {
   "cell_type": "markdown",
   "id": "1218388b-2e3b-4a32-bff1-b628a8847ea3",
   "metadata": {},
   "source": [
    "Contesta las siguientes preguntas utilizando PySpark. Realiza el siguiente análisis (por año) y sobre todos los catálogos.\n",
    "\n",
    "¿Cuántos catálogos diferentes tenemos?"
   ]
  },
  {
   "cell_type": "code",
   "execution_count": 10,
   "id": "dff636b0-33ae-4e42-8486-b42769c63919",
   "metadata": {},
   "outputs": [
    {
     "data": {
      "application/vnd.jupyter.widget-view+json": {
       "model_id": "",
       "version_major": 2,
       "version_minor": 0
      },
      "text/plain": [
       "FloatProgress(value=0.0, bar_style='info', description='Progress:', layout=Layout(height='25px', width='50%'),…"
      ]
     },
     "metadata": {},
     "output_type": "display_data"
    },
    {
     "name": "stdout",
     "output_type": "stream",
     "text": [
      "+----+---------+\n",
      "|anio|catalogos|\n",
      "+----+---------+\n",
      "|2018|       10|\n",
      "|2019|       11|\n",
      "|2020|       10|\n",
      "|2021|       10|\n",
      "|2022|       11|\n",
      "|2023|       11|\n",
      "|2024|       10|\n",
      "+----+---------+"
     ]
    }
   ],
   "source": [
    "# Pasamos la columna fecharegistro a fecha y extraemos el año\n",
    "df = df.withColumn(\"fecharegistro\", col(\"fecharegistro\").cast(\"date\"))\n",
    "df = df.withColumn(\"anio\", year(\"fecharegistro\"))\n",
    "\n",
    "# Agrupamos por año y contar\n",
    "df.groupBy(\"anio\").agg(f.countDistinct(\"catalogo\").alias(\"catalogos\")).show()"
   ]
  },
  {
   "cell_type": "markdown",
   "id": "405b0c4b-f178-4f17-8e28-641cc6c51388",
   "metadata": {},
   "source": [
    "¿Cuáles son los 20 catálogos con más observaciones?"
   ]
  },
  {
   "cell_type": "code",
   "execution_count": 14,
   "id": "f21438d4-6d69-40fc-8c86-aebb2de809a8",
   "metadata": {},
   "outputs": [
    {
     "data": {
      "application/vnd.jupyter.widget-view+json": {
       "model_id": "",
       "version_major": 2,
       "version_minor": 0
      },
      "text/plain": [
       "FloatProgress(value=0.0, bar_style='info', description='Progress:', layout=Layout(height='25px', width='50%'),…"
      ]
     },
     "metadata": {},
     "output_type": "display_data"
    },
    {
     "name": "stdout",
     "output_type": "stream",
     "text": [
      "+----+------------------+-------------+\n",
      "|anio|          catalogo|observaciones|\n",
      "+----+------------------+-------------+\n",
      "|2018|           basicos|      8804761|\n",
      "|2022|           basicos|      7945110|\n",
      "|2023|           basicos|      7742108|\n",
      "|2019|           basicos|      7398860|\n",
      "|2021|           basicos|      6919490|\n",
      "|2020|           basicos|      6170515|\n",
      "|2018|      medicamentos|      3657969|\n",
      "|2023|      medicamentos|      3192617|\n",
      "|2022|      medicamentos|      3177815|\n",
      "|2021|      medicamentos|      2937404|\n",
      "|2019|      medicamentos|      2887105|\n",
      "|2020|      medicamentos|      2571915|\n",
      "|2024|           basicos|      1986577|\n",
      "|2018| electrodomesticos|      1735336|\n",
      "|2019| electrodomesticos|      1352068|\n",
      "|2023| electrodomesticos|      1183304|\n",
      "|2022| electrodomesticos|      1029302|\n",
      "|2021| electrodomesticos|      1004833|\n",
      "|2018|frutas y legumbres|       938616|\n",
      "|2022|frutas y legumbres|       926031|\n",
      "+----+------------------+-------------+"
     ]
    }
   ],
   "source": [
    "# Agrupamos por año y por catálogo, y hacemos un count\n",
    "df_grouped = df.groupBy(\"anio\", \"catalogo\").agg(f.count(\"catalogo\").alias(\"observaciones\"))\n",
    "\n",
    "# Ordenamos los registros por el conteo de observaciones de manera descendente y obtenemos los top 20\n",
    "df_result = df_grouped.orderBy(col(\"observaciones\").desc()).limit(20)\n",
    "df_result.show()"
   ]
  },
  {
   "cell_type": "code",
   "execution_count": 16,
   "id": "facc7e6f",
   "metadata": {},
   "outputs": [
    {
     "data": {
      "application/vnd.jupyter.widget-view+json": {
       "model_id": "",
       "version_major": 2,
       "version_minor": 0
      },
      "text/plain": [
       "FloatProgress(value=0.0, bar_style='info', description='Progress:', layout=Layout(height='25px', width='50%'),…"
      ]
     },
     "metadata": {},
     "output_type": "display_data"
    }
   ],
   "source": [
    "# Guardamos en s3\n",
    "df_result.write.parquet(\"s3://itam-analytics-erwin/quien_es_quien/consulta1\")"
   ]
  },
  {
   "cell_type": "markdown",
   "id": "02fec7c4-c9fe-485a-ba58-35cf1dd7318d",
   "metadata": {},
   "source": [
    "¿Tenemos datos de todos los estados del país? De no ser así, ¿cuáles faltan?"
   ]
  },
  {
   "cell_type": "code",
   "execution_count": 20,
   "id": "2f602772-0e97-475c-bd4d-640a0b005958",
   "metadata": {},
   "outputs": [
    {
     "data": {
      "application/vnd.jupyter.widget-view+json": {
       "model_id": "",
       "version_major": 2,
       "version_minor": 0
      },
      "text/plain": [
       "FloatProgress(value=0.0, bar_style='info', description='Progress:', layout=Layout(height='25px', width='50%'),…"
      ]
     },
     "metadata": {},
     "output_type": "display_data"
    },
    {
     "name": "stdout",
     "output_type": "stream",
     "text": [
      "+---------------+----+\n",
      "|estado_completo|anio|\n",
      "+---------------+----+\n",
      "|       coahuila|2018|\n",
      "|      michoacan|2018|\n",
      "|       coahuila|2019|\n",
      "|      michoacan|2019|\n",
      "|       coahuila|2020|\n",
      "|      michoacan|2020|\n",
      "|       coahuila|2021|\n",
      "|         colima|2021|\n",
      "|      michoacan|2021|\n",
      "|        nayarit|2021|\n",
      "|       coahuila|2022|\n",
      "|         colima|2022|\n",
      "|      michoacan|2022|\n",
      "|        nayarit|2022|\n",
      "|       coahuila|2023|\n",
      "|         colima|2023|\n",
      "|      michoacan|2023|\n",
      "|        nayarit|2023|\n",
      "|       coahuila|2024|\n",
      "|         colima|2024|\n",
      "+---------------+----+\n",
      "only showing top 20 rows"
     ]
    }
   ],
   "source": [
    "# Lista de todos los estados de México\n",
    "estados_mexico = [\"aguascalientes\", \"baja california\", \"baja california sur\", \"campeche\", \"chiapas\", \"chihuahua\", \"ciudad de mexico\", \"coahuila\", \"colima\", \"durango\", \n",
    "                  \"guanajuato\", \"guerrero\", \"hidalgo\", \"jalisco\", \"estado de mexico\", \"michoacan\", \"morelos\", \"nayarit\", \"nuevo leon\", \"oaxaca\", \"puebla\", \"queretaro\", \n",
    "                  \"quintana roo\", \"san luis potosi\", \"sinaloa\", \"sonora\", \"tabasco\", \"tamaulipas\", \"tlaxcala\", \"veracruz\", \"yucatan\", \"zacatecas\"]\n",
    "\n",
    "# Creamos un DataFrame de Spark con la lista de estados\n",
    "df_estados_mexico = spark.createDataFrame(estados_mexico, StringType()).toDF(\"estado_completo\")\n",
    "\n",
    "# Obtenemos los estados por año\n",
    "estados_por_anio = df.select(\"anio\", \"estado\").distinct()\n",
    "\n",
    "# Encontramos los estados que faltan por año\n",
    "estados_faltantes_anio = df_estados_mexico.crossJoin(estados_por_anio.select(\"anio\").distinct())\\\n",
    "    .join(estados_por_anio, (df_estados_mexico.estado_completo == estados_por_anio.estado) & \n",
    "          (estados_por_anio.anio == estados_por_anio.anio), \"left_anti\")\n",
    "\n",
    "# Mostrar los resultados\n",
    "estados_faltantes_anio.sort(\"anio\", \"estado_completo\").show()\n"
   ]
  },
  {
   "cell_type": "markdown",
   "id": "c87eba1d-554e-420d-bf5d-71646088dcd1",
   "metadata": {},
   "source": [
    "¿Cuántas observaciones tenemos por estado?"
   ]
  },
  {
   "cell_type": "code",
   "execution_count": 21,
   "id": "ffe08912-6685-4624-b410-fe5b96cffba3",
   "metadata": {},
   "outputs": [
    {
     "data": {
      "application/vnd.jupyter.widget-view+json": {
       "model_id": "",
       "version_major": 2,
       "version_minor": 0
      },
      "text/plain": [
       "FloatProgress(value=0.0, bar_style='info', description='Progress:', layout=Layout(height='25px', width='50%'),…"
      ]
     },
     "metadata": {},
     "output_type": "display_data"
    },
    {
     "name": "stdout",
     "output_type": "stream",
     "text": [
      "+----+--------------------+-------------+\n",
      "|anio|              estado|observaciones|\n",
      "+----+--------------------+-------------+\n",
      "|2023|     baja california|       209715|\n",
      "|2023|    estado de mexico|      2275173|\n",
      "|2023|              oaxaca|       265726|\n",
      "|2023|             durango|       255165|\n",
      "|2023|             chiapas|        88692|\n",
      "|2023|           chihuahua|       442131|\n",
      "|2023|             jalisco|       702300|\n",
      "|2023| michoacan de ocampo|       278337|\n",
      "|2023|            guerrero|        75327|\n",
      "|2023|      aguascalientes|       313809|\n",
      "|2023|           queretaro|       444975|\n",
      "|2023|    ciudad de mexico|      3320792|\n",
      "|2023|             morelos|       273533|\n",
      "|2023|          guanajuato|       661998|\n",
      "|2023|            campeche|       303525|\n",
      "|2023| baja california sur|       291569|\n",
      "|2023|          nuevo leon|       614477|\n",
      "|2023|              puebla|       338442|\n",
      "|2023|coahuila de zaragoza|       246396|\n",
      "|2023|            tlaxcala|       267891|\n",
      "+----+--------------------+-------------+\n",
      "only showing top 20 rows"
     ]
    }
   ],
   "source": [
    "# Agrupamos por año y por estado, y hacemos el conteo de observaciones\n",
    "df.groupBy(\"anio\", \"estado\").agg(f.count(\"estado\").alias(\"observaciones\")).show()"
   ]
  },
  {
   "cell_type": "markdown",
   "id": "88195696-b906-4e25-99bd-d356310b76b3",
   "metadata": {},
   "source": [
    "De cada estado obten: el número de catalogos diferentes por año, ¿ha aumentado el número de catálogos con el tiempo?"
   ]
  },
  {
   "cell_type": "code",
   "execution_count": 22,
   "id": "08fafdb5-e4bb-4015-afa9-357e8b07d0c8",
   "metadata": {},
   "outputs": [
    {
     "data": {
      "application/vnd.jupyter.widget-view+json": {
       "model_id": "",
       "version_major": 2,
       "version_minor": 0
      },
      "text/plain": [
       "FloatProgress(value=0.0, bar_style='info', description='Progress:', layout=Layout(height='25px', width='50%'),…"
      ]
     },
     "metadata": {},
     "output_type": "display_data"
    },
    {
     "name": "stdout",
     "output_type": "stream",
     "text": [
      "+----+--------------------+-------------+\n",
      "|anio|              estado|num_catalogos|\n",
      "+----+--------------------+-------------+\n",
      "|2018|      aguascalientes|            9|\n",
      "|2018|     baja california|           10|\n",
      "|2018| baja california sur|            9|\n",
      "|2018|            campeche|            9|\n",
      "|2018|             chiapas|           10|\n",
      "|2018|           chihuahua|           10|\n",
      "|2018|    ciudad de mexico|           10|\n",
      "|2018|coahuila de zaragoza|           10|\n",
      "|2018|              colima|           10|\n",
      "|2018|             durango|           10|\n",
      "|2018|    estado de mexico|           10|\n",
      "|2018|          guanajuato|           10|\n",
      "|2018|            guerrero|           10|\n",
      "|2018|             hidalgo|           10|\n",
      "|2018|             jalisco|           10|\n",
      "|2018| michoacan de ocampo|            9|\n",
      "|2018|             morelos|            9|\n",
      "|2018|             nayarit|           10|\n",
      "|2018|          nuevo leon|           10|\n",
      "|2018|              oaxaca|           10|\n",
      "+----+--------------------+-------------+\n",
      "only showing top 20 rows"
     ]
    }
   ],
   "source": [
    "# Agrupamos por año y estado, y contar los catálogos distintos para cada grupo\n",
    "df.groupBy(\"anio\", \"estado\").agg(countDistinct(\"catalogo\").alias(\"num_catalogos\")).orderBy(\"anio\", \"estado\").show()"
   ]
  },
  {
   "cell_type": "markdown",
   "id": "562bf506-863b-4304-ae19-8d0ea7b1a300",
   "metadata": {},
   "source": [
    "Utilizando Spark contesta las siguientes preguntas a partir del catálogo que le tocó a tu equipo. Recuerda trabajar en el archivo con los datos particionados de otra manera tus queries van a tardar mucho.\n",
    "\n",
    "NOTA: Nosotros tomamos el campo producto en lugar de marca porque lo único que se tiene en el campo marca es s/m\n",
    "\n",
    "¿Cuańtas marcas diferentes tiene tu categoría?"
   ]
  },
  {
   "cell_type": "code",
   "execution_count": 23,
   "id": "2d6c1f0c-b5b3-42fa-9c43-294420d9daf9",
   "metadata": {},
   "outputs": [
    {
     "data": {
      "application/vnd.jupyter.widget-view+json": {
       "model_id": "",
       "version_major": 2,
       "version_minor": 0
      },
      "text/plain": [
       "FloatProgress(value=0.0, bar_style='info', description='Progress:', layout=Layout(height='25px', width='50%'),…"
      ]
     },
     "metadata": {},
     "output_type": "display_data"
    },
    {
     "name": "stdout",
     "output_type": "stream",
     "text": [
      "62"
     ]
    }
   ],
   "source": [
    "# Cargamos el parquet particionado\n",
    "df_part = spark.read.parquet(\"s3://itam-analytics-erwin/partition_qeq/catalogo=frutas y legumbres/\")\n",
    "\n",
    "# Hacemos el distinct y el conteo a la columna productos\n",
    "df_part.select(\"producto\").distinct().count()"
   ]
  },
  {
   "cell_type": "markdown",
   "id": "b1adaeeb-32ba-4e78-9e49-c4689c97cdc9",
   "metadata": {},
   "source": [
    "Por año"
   ]
  },
  {
   "cell_type": "code",
   "execution_count": 24,
   "id": "a6b3b9b2-cff3-4ce0-9b35-15ea1002cef9",
   "metadata": {},
   "outputs": [
    {
     "data": {
      "application/vnd.jupyter.widget-view+json": {
       "model_id": "",
       "version_major": 2,
       "version_minor": 0
      },
      "text/plain": [
       "FloatProgress(value=0.0, bar_style='info', description='Progress:', layout=Layout(height='25px', width='50%'),…"
      ]
     },
     "metadata": {},
     "output_type": "display_data"
    },
    {
     "name": "stdout",
     "output_type": "stream",
     "text": [
      "+----+---------+\n",
      "|anio|productos|\n",
      "+----+---------+\n",
      "|2018|       61|\n",
      "|2019|       61|\n",
      "|2020|       62|\n",
      "|2021|       62|\n",
      "|2022|       62|\n",
      "|2023|       62|\n",
      "|2024|       62|\n",
      "+----+---------+"
     ]
    }
   ],
   "source": [
    "# Pasamos la columna fecharegistro a fecha y extraemos el año\n",
    "df_part = df_part.withColumn(\"fecharegistro\", col(\"fecharegistro\").cast(\"date\"))\n",
    "df_part = df_part.withColumn(\"anio\", year(\"fecharegistro\"))\n",
    "\n",
    "# Agrupamos por año y cuenta los productos distintos dentro de cada año\n",
    "df_part.groupBy(\"anio\").agg(countDistinct(\"producto\").alias(\"productos\")).show()"
   ]
  },
  {
   "cell_type": "markdown",
   "id": "48c2d353-3fc7-485d-a7b7-1144d3bf45ce",
   "metadata": {},
   "source": [
    "¿Cuál es la marca con mayor precio? ¿En qué estado?"
   ]
  },
  {
   "cell_type": "markdown",
   "id": "9d041513-dad3-4f71-923f-a58343f80925",
   "metadata": {},
   "source": [
    "General"
   ]
  },
  {
   "cell_type": "code",
   "execution_count": 25,
   "id": "4a174c96-f3af-4c40-ada1-1aaf14a3c026",
   "metadata": {},
   "outputs": [
    {
     "data": {
      "application/vnd.jupyter.widget-view+json": {
       "model_id": "",
       "version_major": 2,
       "version_minor": 0
      },
      "text/plain": [
       "FloatProgress(value=0.0, bar_style='info', description='Progress:', layout=Layout(height='25px', width='50%'),…"
      ]
     },
     "metadata": {},
     "output_type": "display_data"
    },
    {
     "name": "stdout",
     "output_type": "stream",
     "text": [
      "El producto con el mayor precio es: castanas con un precio de 543.5, en el estado de estado de mexico."
     ]
    }
   ],
   "source": [
    "# Ordenamos por el mayor precio\n",
    "fila_max_precio = df_part.orderBy(df_part['precio'].desc()).first()\n",
    "\n",
    "# Extraemos la información de la producto, el precio y el estado\n",
    "max_producto = fila_max_precio['producto']\n",
    "max_precio = fila_max_precio['precio']\n",
    "max_estado = fila_max_precio['estado']\n",
    "print(f\"El producto con el mayor precio es: {max_producto} con un precio de {max_precio}, en el estado de {max_estado}.\")"
   ]
  },
  {
   "cell_type": "markdown",
   "id": "610cc2ca-c5f9-4e4e-83f4-daafeb6cebd2",
   "metadata": {},
   "source": [
    "Por año"
   ]
  },
  {
   "cell_type": "code",
   "execution_count": 26,
   "id": "1c3dab46-af57-40df-8e90-35d9b8390352",
   "metadata": {},
   "outputs": [
    {
     "data": {
      "application/vnd.jupyter.widget-view+json": {
       "model_id": "",
       "version_major": 2,
       "version_minor": 0
      },
      "text/plain": [
       "FloatProgress(value=0.0, bar_style='info', description='Progress:', layout=Layout(height='25px', width='50%'),…"
      ]
     },
     "metadata": {},
     "output_type": "display_data"
    },
    {
     "name": "stdout",
     "output_type": "stream",
     "text": [
      "+----+--------+------+----------------+\n",
      "|anio|producto|precio|          estado|\n",
      "+----+--------+------+----------------+\n",
      "|2018|    nuez| 440.0|         jalisco|\n",
      "|2019|    nuez| 380.0|         chiapas|\n",
      "|2020|    nuez| 350.0|      nuevo leon|\n",
      "|2021|    nuez| 470.0|         morelos|\n",
      "|2022|castanas| 479.0|estado de mexico|\n",
      "|2023|castanas| 543.5|ciudad de mexico|\n",
      "|2024| jamaica| 480.0|         jalisco|\n",
      "+----+--------+------+----------------+"
     ]
    }
   ],
   "source": [
    "# Definimos la ventana de partición por año y ordenadamos por precio descendente\n",
    "windowSpec = Window.partitionBy(\"anio\").orderBy(col(\"precio\").desc())\n",
    "\n",
    "# Usamos row_number para asignar un rango dentro de cada partición\n",
    "df_part = df_part.withColumn(\"rank\", row_number().over(windowSpec))\n",
    "\n",
    "# Filtramos para obtener solo las filas con el mayor precio por año\n",
    "df_part.filter(col(\"rank\") == 1).select(\"anio\", \"producto\", \"precio\", \"estado\").show()"
   ]
  },
  {
   "cell_type": "markdown",
   "id": "31250b38-cee7-4ade-9163-d308a75ef3a9",
   "metadata": {},
   "source": [
    "¿Cuál es la marca con menor precio en CDMX? (en aquel entonces Distrito Federal) "
   ]
  },
  {
   "cell_type": "markdown",
   "id": "d6f1cc0b-ad56-49f9-8ed3-9dae7c4a7f83",
   "metadata": {},
   "source": [
    "General"
   ]
  },
  {
   "cell_type": "code",
   "execution_count": 27,
   "id": "eaff8cd6-24b3-462b-aff8-a75633d82340",
   "metadata": {},
   "outputs": [
    {
     "data": {
      "application/vnd.jupyter.widget-view+json": {
       "model_id": "",
       "version_major": 2,
       "version_minor": 0
      },
      "text/plain": [
       "FloatProgress(value=0.0, bar_style='info', description='Progress:', layout=Layout(height='25px', width='50%'),…"
      ]
     },
     "metadata": {},
     "output_type": "display_data"
    },
    {
     "name": "stdout",
     "output_type": "stream",
     "text": [
      "El producto con el menor precio en ciudad de mexico es elote con un precio de 1.0."
     ]
    }
   ],
   "source": [
    "# Filtramos por el estado\n",
    "df_cdmx = df_part.filter(df_part.estado == \"ciudad de mexico\")\n",
    "\n",
    "# Ordenamos por precio\n",
    "fila_min_precio = df_cdmx.orderBy(df_part['precio'].asc()).first()\n",
    "\n",
    "# Extraemos la información de la producto, el precio y el estado\n",
    "min_producto = fila_min_precio['producto']\n",
    "min_precio = fila_min_precio['precio']\n",
    "min_estado = fila_min_precio['estado']\n",
    "print(f\"El producto con el menor precio en {min_estado} es {min_producto} con un precio de {min_precio}.\")"
   ]
  },
  {
   "cell_type": "markdown",
   "id": "cec207eb-c97f-4d1c-8be5-989dabdbc9a9",
   "metadata": {},
   "source": [
    "Por año"
   ]
  },
  {
   "cell_type": "code",
   "execution_count": 28,
   "id": "5e725e12-6dcf-44b8-a3d7-d1f78498e7da",
   "metadata": {},
   "outputs": [
    {
     "data": {
      "application/vnd.jupyter.widget-view+json": {
       "model_id": "",
       "version_major": 2,
       "version_minor": 0
      },
      "text/plain": [
       "FloatProgress(value=0.0, bar_style='info', description='Progress:', layout=Layout(height='25px', width='50%'),…"
      ]
     },
     "metadata": {},
     "output_type": "display_data"
    },
    {
     "name": "stdout",
     "output_type": "stream",
     "text": [
      "+----+--------+------+----------------+\n",
      "|anio|producto|precio|          estado|\n",
      "+----+--------+------+----------------+\n",
      "|2018|   elote|   1.9|ciudad de mexico|\n",
      "|2019|   elote|   1.9|ciudad de mexico|\n",
      "|2020|   elote|   1.0|ciudad de mexico|\n",
      "|2021|cilantro|   2.0|ciudad de mexico|\n",
      "|2022|   elote|   1.9|ciudad de mexico|\n",
      "|2023|  acelga|   2.9|ciudad de mexico|\n",
      "|2024|cilantro|   3.5|ciudad de mexico|\n",
      "+----+--------+------+----------------+"
     ]
    }
   ],
   "source": [
    "# Filtramos las filas donde el estado es CDMX\n",
    "df_cdmx = df_part.filter(df_part.estado == \"ciudad de mexico\")\n",
    "\n",
    "# Definimos una ventana de partición por año y ordenamos por precio ascendente\n",
    "windowSpec = Window.partitionBy(\"anio\").orderBy(col(\"precio\").asc())\n",
    "\n",
    "# Usamos row_number para asignar un rango dentro de cada partición\n",
    "df_cdmx = df_cdmx.withColumn(\"rank\", row_number().over(windowSpec))\n",
    "\n",
    "# Filtramos para obtener solo las filas con el menor precio por año\n",
    "df_cdmx.filter(col(\"rank\") == 1).select(\"anio\", \"producto\", \"precio\", \"estado\").show()"
   ]
  },
  {
   "cell_type": "markdown",
   "id": "0fb1e680-97c3-4b24-8eb8-575b71b0d0f7",
   "metadata": {},
   "source": [
    "¿Cuál es la marca con mayores observaciones? "
   ]
  },
  {
   "cell_type": "markdown",
   "id": "861838ec-93ec-47b7-93ba-68f10b69aa16",
   "metadata": {},
   "source": [
    "General"
   ]
  },
  {
   "cell_type": "code",
   "execution_count": 30,
   "id": "5eb6c78e-d728-4a5e-9600-7d2663db5fe6",
   "metadata": {},
   "outputs": [
    {
     "data": {
      "application/vnd.jupyter.widget-view+json": {
       "model_id": "",
       "version_major": 2,
       "version_minor": 0
      },
      "text/plain": [
       "FloatProgress(value=0.0, bar_style='info', description='Progress:', layout=Layout(height='25px', width='50%'),…"
      ]
     },
     "metadata": {},
     "output_type": "display_data"
    },
    {
     "name": "stdout",
     "output_type": "stream",
     "text": [
      "Row(producto='chile fresco', count=394568)"
     ]
    }
   ],
   "source": [
    "# Contamos las observaciones de cada producto y ordenamos en orden descendente\n",
    "conteo_observaciones = df_part.groupBy(\"producto\").count().orderBy(col(\"count\").desc())\n",
    "\n",
    "# Seleccionamos el producto con más apariciones\n",
    "producto_mas_observaciones = conteo_observaciones.first()\n",
    "producto_mas_observaciones"
   ]
  },
  {
   "cell_type": "markdown",
   "id": "0d7bdee1-cde0-44b4-8b25-ba3a02e037d0",
   "metadata": {},
   "source": [
    "Por año"
   ]
  },
  {
   "cell_type": "code",
   "execution_count": 32,
   "id": "69d4c54c-8b42-417b-b2b5-7d3497852af3",
   "metadata": {},
   "outputs": [
    {
     "data": {
      "application/vnd.jupyter.widget-view+json": {
       "model_id": "",
       "version_major": 2,
       "version_minor": 0
      },
      "text/plain": [
       "FloatProgress(value=0.0, bar_style='info', description='Progress:', layout=Layout(height='25px', width='50%'),…"
      ]
     },
     "metadata": {},
     "output_type": "display_data"
    },
    {
     "name": "stdout",
     "output_type": "stream",
     "text": [
      "+----+------------+-----+\n",
      "|anio|    producto|count|\n",
      "+----+------------+-----+\n",
      "|2018|chile fresco|64189|\n",
      "|2019|chile fresco|47721|\n",
      "|2020|chile fresco|50264|\n",
      "|2021|chile fresco|64397|\n",
      "|2022|chile fresco|77629|\n",
      "|2023|chile fresco|72300|\n",
      "|2024|chile fresco|18068|\n",
      "+----+------------+-----+"
     ]
    }
   ],
   "source": [
    "# Contamos las observaciones de cada producto por año y ordenamos en orden descendente dentro de cada año\n",
    "conteo_productos_por_anio = df_part.groupBy(\"anio\", \"producto\").count().orderBy(\"anio\", col(\"count\").desc())\n",
    "\n",
    "# Definimos la ventana de partición por año y ordenamos por observaciones descendente\n",
    "windowSpec = Window.partitionBy(\"anio\").orderBy(col(\"count\").desc())\n",
    "conteo_productos_por_anio.withColumn(\"rank\", row_number().over(windowSpec)).filter(col(\"rank\") == 1).select(\"anio\", \"producto\", \"count\").show()"
   ]
  },
  {
   "cell_type": "markdown",
   "id": "79de83d1-0dc9-4005-bdc0-9293255d3637",
   "metadata": {},
   "source": [
    "¿Cuáles son el top 5 de marcas con mayor precio en cada estado? ¿Son diferentes?"
   ]
  },
  {
   "cell_type": "markdown",
   "id": "99970bfd-edf0-496e-9842-b46a10886f75",
   "metadata": {},
   "source": [
    "General"
   ]
  },
  {
   "cell_type": "code",
   "execution_count": 33,
   "id": "a000521c-8d06-4200-955a-326df91f38e7",
   "metadata": {},
   "outputs": [
    {
     "data": {
      "application/vnd.jupyter.widget-view+json": {
       "model_id": "",
       "version_major": 2,
       "version_minor": 0
      },
      "text/plain": [
       "FloatProgress(value=0.0, bar_style='info', description='Progress:', layout=Layout(height='25px', width='50%'),…"
      ]
     },
     "metadata": {},
     "output_type": "display_data"
    },
    {
     "name": "stdout",
     "output_type": "stream",
     "text": [
      "+-------------------+--------+------+----+\n",
      "|             estado|producto|precio|rank|\n",
      "+-------------------+--------+------+----+\n",
      "|     aguascalientes| jamaica| 429.0|   1|\n",
      "|     aguascalientes| jamaica| 429.0|   2|\n",
      "|     aguascalientes| jamaica| 429.0|   3|\n",
      "|     aguascalientes| jamaica| 429.0|   4|\n",
      "|     aguascalientes| jamaica| 429.0|   5|\n",
      "|    baja california| jamaica| 399.9|   1|\n",
      "|    baja california| jamaica| 399.9|   2|\n",
      "|    baja california| jamaica| 399.9|   3|\n",
      "|    baja california| jamaica| 399.9|   4|\n",
      "|    baja california| jamaica| 399.9|   5|\n",
      "|baja california sur| jamaica| 399.9|   1|\n",
      "|baja california sur| jamaica| 399.9|   2|\n",
      "|baja california sur| jamaica| 399.9|   3|\n",
      "|baja california sur| jamaica| 399.9|   4|\n",
      "|baja california sur| jamaica| 399.9|   5|\n",
      "|           campeche|castanas| 399.0|   1|\n",
      "|           campeche|castanas| 399.0|   2|\n",
      "|           campeche|castanas| 399.0|   3|\n",
      "|           campeche|castanas| 395.0|   4|\n",
      "|           campeche|castanas| 395.0|   5|\n",
      "+-------------------+--------+------+----+\n",
      "only showing top 20 rows"
     ]
    }
   ],
   "source": [
    "# Definimos una ventana que particiona por estado y ordena por precio descendente\n",
    "windowSpec = Window.partitionBy(\"estado\").orderBy(col(\"precio\").desc())\n",
    "\n",
    "# Usamos row_number para asignar un rango dentro de cada partición\n",
    "df_part = df_part.withColumn(\"rank\", row_number().over(windowSpec))\n",
    "\n",
    "# Filtramos para obtener solo las top 5 marcas con mayor precio en cada estado\n",
    "df_part.filter(col(\"rank\") <= 5).select(\"estado\", \"producto\", \"precio\", \"rank\").show()"
   ]
  },
  {
   "cell_type": "markdown",
   "id": "a8e9d9ca-e054-4140-b560-fc49ea5718af",
   "metadata": {},
   "source": [
    "Por año"
   ]
  },
  {
   "cell_type": "code",
   "execution_count": 34,
   "id": "e71f898d-ab8d-49f2-bd9a-1e4ab74c816e",
   "metadata": {},
   "outputs": [
    {
     "data": {
      "application/vnd.jupyter.widget-view+json": {
       "model_id": "",
       "version_major": 2,
       "version_minor": 0
      },
      "text/plain": [
       "FloatProgress(value=0.0, bar_style='info', description='Progress:', layout=Layout(height='25px', width='50%'),…"
      ]
     },
     "metadata": {},
     "output_type": "display_data"
    },
    {
     "name": "stdout",
     "output_type": "stream",
     "text": [
      "+----+--------------+--------+------+----+\n",
      "|anio|        estado|producto|precio|rank|\n",
      "+----+--------------+--------+------+----+\n",
      "|2018|aguascalientes|    nuez| 350.0|   1|\n",
      "|2018|aguascalientes| jamaica| 275.0|   2|\n",
      "|2018|aguascalientes| jamaica| 275.0|   3|\n",
      "|2018|aguascalientes| jamaica| 275.0|   4|\n",
      "|2018|aguascalientes| jamaica| 275.0|   5|\n",
      "|2019|aguascalientes| jamaica| 276.4|   1|\n",
      "|2019|aguascalientes| jamaica| 276.4|   2|\n",
      "|2019|aguascalientes| jamaica| 276.4|   3|\n",
      "|2019|aguascalientes| jamaica| 276.4|   4|\n",
      "|2019|aguascalientes| jamaica| 276.4|   5|\n",
      "|2020|aguascalientes| jamaica| 226.0|   1|\n",
      "|2020|aguascalientes| jamaica| 210.0|   2|\n",
      "|2020|aguascalientes| jamaica| 210.0|   3|\n",
      "|2020|aguascalientes| jamaica| 210.0|   4|\n",
      "|2020|aguascalientes| jamaica| 210.0|   5|\n",
      "|2021|aguascalientes| jamaica| 249.0|   1|\n",
      "|2021|aguascalientes| jamaica| 249.0|   2|\n",
      "|2021|aguascalientes| jamaica| 249.0|   3|\n",
      "|2021|aguascalientes| jamaica| 200.0|   4|\n",
      "|2021|aguascalientes| jamaica| 200.0|   5|\n",
      "+----+--------------+--------+------+----+\n",
      "only showing top 20 rows"
     ]
    }
   ],
   "source": [
    "# Definimos una ventana que particiona por estado y año, y ordena por precio descendente\n",
    "windowSpec = Window.partitionBy(\"estado\", \"anio\").orderBy(col(\"precio\").desc())\n",
    "\n",
    "# Usamos row_number para asignar un rango dentro de cada partición\n",
    "df_part = df_part.withColumn(\"rank\", row_number().over(windowSpec))\n",
    "\n",
    "# Filtramos para obtener solo las top 5 marcas con mayor precio en cada estado y cada año\n",
    "df_part.filter(col(\"rank\") <= 5).select(\"anio\", \"estado\", \"producto\", \"precio\", \"rank\").show()"
   ]
  },
  {
   "cell_type": "markdown",
   "id": "7e6daeb6",
   "metadata": {},
   "source": [
    "Observamos que hay algunas coincidencias como es el caso de las castanas o la jamaica. Habría que realizar un análisis más profundo en los estados que se obtuvieron en la pregunta previa."
   ]
  },
  {
   "cell_type": "markdown",
   "id": "52add34f-6e29-4b33-b84b-4ae7bf415d62",
   "metadata": {},
   "source": [
    "¿Cuáles son el top 5 de marcas con menor precio en CDMX? (en aquel entonces Distrito Federal)"
   ]
  },
  {
   "cell_type": "markdown",
   "id": "83413bed-0ed7-43f7-a688-0e5433a4ee7d",
   "metadata": {},
   "source": [
    "General"
   ]
  },
  {
   "cell_type": "code",
   "execution_count": 35,
   "id": "e0d11e44-caad-40c6-b7ab-e635bdc93207",
   "metadata": {},
   "outputs": [
    {
     "data": {
      "application/vnd.jupyter.widget-view+json": {
       "model_id": "",
       "version_major": 2,
       "version_minor": 0
      },
      "text/plain": [
       "FloatProgress(value=0.0, bar_style='info', description='Progress:', layout=Layout(height='25px', width='50%'),…"
      ]
     },
     "metadata": {},
     "output_type": "display_data"
    },
    {
     "name": "stdout",
     "output_type": "stream",
     "text": [
      "+----------------+--------+------+----+\n",
      "|          estado|producto|precio|rank|\n",
      "+----------------+--------+------+----+\n",
      "|ciudad de mexico|   elote|   1.0|   1|\n",
      "|ciudad de mexico|   elote|   1.0|   2|\n",
      "|ciudad de mexico|   elote|   1.0|   3|\n",
      "|ciudad de mexico|   elote|   1.9|   4|\n",
      "|ciudad de mexico|   elote|   1.9|   5|\n",
      "+----------------+--------+------+----+"
     ]
    }
   ],
   "source": [
    "# Filtramos por la CDMX\n",
    "df_cdmx = df_part.filter(df_part[\"estado\"] == \"ciudad de mexico\")\n",
    "\n",
    "# Definimos una ventana que particiona por estado y ordena por precio ascendente\n",
    "windowSpec = Window.partitionBy(\"estado\").orderBy(col(\"precio\").asc())\n",
    "\n",
    "# Usamos row_number para asignar un rango dentro de cada partición\n",
    "df_cdmx = df_cdmx.withColumn(\"rank\", row_number().over(windowSpec))\n",
    "\n",
    "# Filtramos para obtener solo las top 5 marcas con menor precio en CDMX\n",
    "df_cdmx.filter(col(\"rank\") <= 5).select(\"estado\", \"producto\", \"precio\", \"rank\").show()"
   ]
  },
  {
   "cell_type": "markdown",
   "id": "edaf031e-d655-48cf-8693-5209adb63c5c",
   "metadata": {},
   "source": [
    "Por año"
   ]
  },
  {
   "cell_type": "code",
   "execution_count": 36,
   "id": "2a9eb78d-5f0a-421c-8a18-1ac9401d9f13",
   "metadata": {},
   "outputs": [
    {
     "data": {
      "application/vnd.jupyter.widget-view+json": {
       "model_id": "",
       "version_major": 2,
       "version_minor": 0
      },
      "text/plain": [
       "FloatProgress(value=0.0, bar_style='info', description='Progress:', layout=Layout(height='25px', width='50%'),…"
      ]
     },
     "metadata": {},
     "output_type": "display_data"
    },
    {
     "name": "stdout",
     "output_type": "stream",
     "text": [
      "+----+----------------+--------+------+----+\n",
      "|anio|          estado|producto|precio|rank|\n",
      "+----+----------------+--------+------+----+\n",
      "|2018|ciudad de mexico|   elote|   1.9|   1|\n",
      "|2018|ciudad de mexico|   elote|   2.5|   2|\n",
      "|2018|ciudad de mexico|   elote|   2.5|   3|\n",
      "|2018|ciudad de mexico|   elote|   2.5|   4|\n",
      "|2018|ciudad de mexico|   elote|   2.5|   5|\n",
      "|2019|ciudad de mexico|   elote|   1.9|   1|\n",
      "|2019|ciudad de mexico|   elote|   2.5|   2|\n",
      "|2019|ciudad de mexico|   elote|   2.8|   3|\n",
      "|2019|ciudad de mexico|   elote|   2.8|   4|\n",
      "|2019|ciudad de mexico|   elote|   2.8|   5|\n",
      "|2020|ciudad de mexico|   elote|   1.0|   1|\n",
      "|2020|ciudad de mexico|   elote|   1.0|   2|\n",
      "|2020|ciudad de mexico|   elote|   1.0|   3|\n",
      "|2020|ciudad de mexico|   elote|   1.9|   4|\n",
      "|2020|ciudad de mexico|   elote|   2.8|   5|\n",
      "|2021|ciudad de mexico|cilantro|   2.0|   1|\n",
      "|2021|ciudad de mexico|cilantro|   2.0|   2|\n",
      "|2021|ciudad de mexico|cilantro|   2.0|   3|\n",
      "|2021|ciudad de mexico|cilantro|   2.0|   4|\n",
      "|2021|ciudad de mexico|cilantro|   2.0|   5|\n",
      "+----+----------------+--------+------+----+\n",
      "only showing top 20 rows"
     ]
    }
   ],
   "source": [
    "# Definimos una ventana que particiona por estado y año, y ordenamos por precio ascendente\n",
    "windowSpec = Window.partitionBy(\"estado\", \"anio\").orderBy(col(\"precio\").asc())\n",
    "\n",
    "# Usamos row_number para asignar un rango dentro de cada partición\n",
    "df_cdmx = df_cdmx.withColumn(\"rank\", row_number().over(windowSpec))\n",
    "\n",
    "# Filtro para obtener solo las top 5 marcas con menor precio por año en CDMX\n",
    "df_cdmx.filter(col(\"rank\") <= 5).select(\"anio\", \"estado\", \"producto\", \"precio\", \"rank\").show()"
   ]
  },
  {
   "cell_type": "markdown",
   "id": "bfeba582",
   "metadata": {},
   "source": [
    "Aquí podemos observar que hay una gran coincidencia con el elote y el cilantro en la ciudad de méxico como los productos con menor precio."
   ]
  },
  {
   "cell_type": "markdown",
   "id": "9df7eb99-4710-4f62-921e-e805a3a95c40",
   "metadata": {},
   "source": [
    "¿Cuáles son el top 5 de marcas con mayores observaciones? ¿Se parecen a las de nivel por estado?"
   ]
  },
  {
   "cell_type": "markdown",
   "id": "8f4da37e-f494-49ed-a439-cfd516f99ebe",
   "metadata": {},
   "source": [
    "General"
   ]
  },
  {
   "cell_type": "code",
   "execution_count": 38,
   "id": "8d31fb99-fafb-417e-b8a2-f025b3bc47dc",
   "metadata": {},
   "outputs": [
    {
     "data": {
      "application/vnd.jupyter.widget-view+json": {
       "model_id": "",
       "version_major": 2,
       "version_minor": 0
      },
      "text/plain": [
       "FloatProgress(value=0.0, bar_style='info', description='Progress:', layout=Layout(height='25px', width='50%'),…"
      ]
     },
     "metadata": {},
     "output_type": "display_data"
    },
    {
     "name": "stdout",
     "output_type": "stream",
     "text": [
      "+------------+------+\n",
      "|    producto| count|\n",
      "+------------+------+\n",
      "|chile fresco|394568|\n",
      "|     manzana|273092|\n",
      "|     cebolla|179824|\n",
      "|     platano|177399|\n",
      "|       limon|165295|\n",
      "+------------+------+"
     ]
    }
   ],
   "source": [
    "# Contamos observaciones de cada producto y ordenamos en orden descendente\n",
    "conteo_producto = df_part.groupBy(\"producto\").count().orderBy(col(\"count\").desc())\n",
    "\n",
    "# Seleccionar las top 5 marcas con más observaciones\n",
    "conteo_producto.limit(5).show()"
   ]
  },
  {
   "cell_type": "markdown",
   "id": "6407fd51-4432-4ac3-bc65-d98d00a30070",
   "metadata": {},
   "source": [
    "Por año"
   ]
  },
  {
   "cell_type": "code",
   "execution_count": 40,
   "id": "c1a857de-d8e9-483d-a061-55b78aa33479",
   "metadata": {},
   "outputs": [
    {
     "data": {
      "application/vnd.jupyter.widget-view+json": {
       "model_id": "",
       "version_major": 2,
       "version_minor": 0
      },
      "text/plain": [
       "FloatProgress(value=0.0, bar_style='info', description='Progress:', layout=Layout(height='25px', width='50%'),…"
      ]
     },
     "metadata": {},
     "output_type": "display_data"
    },
    {
     "name": "stdout",
     "output_type": "stream",
     "text": [
      "+----+------------+-----+----+\n",
      "|anio|    producto|count|rank|\n",
      "+----+------------+-----+----+\n",
      "|2018|chile fresco|64189|   1|\n",
      "|2018|     manzana|42792|   2|\n",
      "|2018|     cebolla|34769|   3|\n",
      "|2018|     platano|33981|   4|\n",
      "|2018|     lechuga|32251|   5|\n",
      "|2019|chile fresco|47721|   1|\n",
      "|2019|     manzana|30941|   2|\n",
      "|2019|     cebolla|26054|   3|\n",
      "|2019|     platano|25688|   4|\n",
      "|2019|    jitomate|24321|   5|\n",
      "|2020|chile fresco|50264|   1|\n",
      "|2020|     manzana|34239|   2|\n",
      "|2020|     cebolla|22730|   3|\n",
      "|2020|     platano|22570|   4|\n",
      "|2020|       limon|21479|   5|\n",
      "|2021|chile fresco|64397|   1|\n",
      "|2021|     manzana|42211|   2|\n",
      "|2021|     platano|26661|   3|\n",
      "|2021|     cebolla|26420|   4|\n",
      "|2021|       limon|24256|   5|\n",
      "+----+------------+-----+----+\n",
      "only showing top 20 rows"
     ]
    }
   ],
   "source": [
    "# Contamos las observaciones de cada producto por año y ordenamos en orden descendente\n",
    "conteo_producto_anio = df_part.groupBy(\"anio\", \"producto\").count()\n",
    "\n",
    "# Definimos una ventana que particiona por año y ordenamos por conteo descendente\n",
    "windowSpec = Window.partitionBy(\"anio\").orderBy(col(\"count\").desc())\n",
    "\n",
    "# Usamos row_number para asignar un rango dentro de cada partición\n",
    "conteo_producto_anio = conteo_producto_anio.withColumn(\"rank\", row_number().over(windowSpec))\n",
    "\n",
    "# Filtramos para obtener solo las top 5 marcas con más observaciones por estado\n",
    "conteo_producto_anio.filter(col(\"rank\") <= 5).select(\"anio\", \"producto\", \"count\", \"rank\").show()"
   ]
  },
  {
   "cell_type": "markdown",
   "id": "4bd7abb0",
   "metadata": {},
   "source": [
    "Podemos notar que el chile fresco es el que destaca al igual que en la pregunta que se encuentra más arriba como el producto con más observaciones en general, como por año."
   ]
  },
  {
   "cell_type": "markdown",
   "id": "fe06a193-4b6a-484f-a3a7-2cac6959d5f8",
   "metadata": {},
   "source": [
    "¿Ha dejado de existir alguna marca durante los años que tienes? ¿Cuál? ¿Cuándo desapareció?"
   ]
  },
  {
   "cell_type": "code",
   "execution_count": 41,
   "id": "23284c32-8271-43a0-af71-371aa1b0cee5",
   "metadata": {},
   "outputs": [
    {
     "data": {
      "application/vnd.jupyter.widget-view+json": {
       "model_id": "",
       "version_major": 2,
       "version_minor": 0
      },
      "text/plain": [
       "FloatProgress(value=0.0, bar_style='info', description='Progress:', layout=Layout(height='25px', width='50%'),…"
      ]
     },
     "metadata": {},
     "output_type": "display_data"
    },
    {
     "name": "stdout",
     "output_type": "stream",
     "text": [
      "+--------+----------------+----------------+\n",
      "|producto|primer_aparicion|ultima_aparicion|\n",
      "+--------+----------------+----------------+\n",
      "+--------+----------------+----------------+"
     ]
    }
   ],
   "source": [
    "# Agrupamos por producto y agregamos 2 columnas de primera aparición y última aparición\n",
    "df_marcas_desaparecidas = df_part.groupBy(\"producto\").agg(min_(\"anio\").alias(\"primer_aparicion\"), max_(\"anio\").alias(\"ultima_aparicion\"))\n",
    "\n",
    "#Filtramos por los productos que aparecieron por última vez antes del 2024\n",
    "df_marcas_desaparecidas.filter(col(\"ultima_aparicion\")<2024).show()"
   ]
  },
  {
   "cell_type": "markdown",
   "id": "7cee1ebc",
   "metadata": {},
   "source": [
    "Dentro del grupo de frutas y legumbres, no se observan productos que hayan desaparecido."
   ]
  },
  {
   "cell_type": "markdown",
   "id": "a864e9b3-1bb4-4eec-9016-8112398c83b5",
   "metadata": {},
   "source": [
    "Genera una gráfica de serie de tiempo por estado para la marca con mayor precio -en todos los años-, donde el eje equis es el año y el eje ye es el precio máximo."
   ]
  },
  {
   "cell_type": "code",
   "execution_count": 43,
   "id": "b8028c8b-7385-4ef7-893e-2088ba09d34d",
   "metadata": {},
   "outputs": [
    {
     "data": {
      "application/vnd.jupyter.widget-view+json": {
       "model_id": "",
       "version_major": 2,
       "version_minor": 0
      },
      "text/plain": [
       "FloatProgress(value=0.0, bar_style='info', description='Progress:', layout=Layout(height='25px', width='50%'),…"
      ]
     },
     "metadata": {},
     "output_type": "display_data"
    },
    {
     "name": "stdout",
     "output_type": "stream",
     "text": [
      "+----+-------------------+----------+\n",
      "|anio|             estado|precio_max|\n",
      "+----+-------------------+----------+\n",
      "|2022|     aguascalientes|     419.0|\n",
      "|2022|baja california sur|     385.0|\n",
      "|2018|           campeche|     299.0|\n",
      "|2021|           campeche|     399.0|\n",
      "|2022|           campeche|     385.0|\n",
      "|2023|           campeche|     395.0|\n",
      "|2018|   ciudad de mexico|     395.0|\n",
      "|2019|   ciudad de mexico|     360.0|\n",
      "|2020|   ciudad de mexico|     299.0|\n",
      "|2021|   ciudad de mexico|     399.0|\n",
      "|2022|   ciudad de mexico|     479.0|\n",
      "|2023|   ciudad de mexico|     543.5|\n",
      "|2024|   ciudad de mexico|     395.0|\n",
      "|2018|   estado de mexico|     395.0|\n",
      "|2019|   estado de mexico|     360.0|\n",
      "|2020|   estado de mexico|     329.0|\n",
      "|2021|   estado de mexico|     369.0|\n",
      "|2022|   estado de mexico|     479.0|\n",
      "|2023|   estado de mexico|     543.5|\n",
      "|2018|           guerrero|     348.0|\n",
      "+----+-------------------+----------+\n",
      "only showing top 20 rows"
     ]
    }
   ],
   "source": [
    "# Buscamos el producto con el precio máximo en todo el dataset\n",
    "producto_precio_max = df_part.orderBy(col(\"precio\").desc()).select(\"producto\").first()[\"producto\"]\n",
    "\n",
    "# Filtramos los datos solo para ese producto\n",
    "df_producto_precio_max = df_part.filter(df_part[\"producto\"] == producto_precio_max)\n",
    "\n",
    "# Calculamos el precio máximo por estado y año\n",
    "precio_max_estado_anio = df_producto_precio_max.groupBy(\"anio\", \"estado\").agg(max_(\"precio\").alias(\"precio_max\"))\n",
    "\n",
    "# Ordenamos los resultados por estado y año\n",
    "precio_max_estado_anio = precio_max_estado_anio.orderBy(\"estado\", \"anio\")\n",
    "precio_max_estado_anio.show()"
   ]
  },
  {
   "cell_type": "markdown",
   "id": "48ac37aa",
   "metadata": {},
   "source": [
    "Usaremos la data anterior y la guardaremos para hacer la gráfica después"
   ]
  },
  {
   "cell_type": "code",
   "execution_count": 47,
   "id": "d8e0a6a3",
   "metadata": {},
   "outputs": [
    {
     "data": {
      "application/vnd.jupyter.widget-view+json": {
       "model_id": "",
       "version_major": 2,
       "version_minor": 0
      },
      "text/plain": [
       "FloatProgress(value=0.0, bar_style='info', description='Progress:', layout=Layout(height='25px', width='50%'),…"
      ]
     },
     "metadata": {},
     "output_type": "display_data"
    }
   ],
   "source": [
    "# Guardamos en s3\n",
    "precio_max_estado_anio.write.parquet(\"s3://itam-analytics-erwin/quien_es_quien/consulta2\")"
   ]
  }
 ],
 "metadata": {
  "kernelspec": {
   "display_name": "PySpark",
   "language": "python",
   "name": "pysparkkernel"
  },
  "language_info": {
   "codemirror_mode": {
    "name": "python",
    "version": 3
   },
   "file_extension": ".py",
   "mimetype": "text/x-python",
   "name": "pyspark",
   "pygments_lexer": "python3"
  }
 },
 "nbformat": 4,
 "nbformat_minor": 5
}
