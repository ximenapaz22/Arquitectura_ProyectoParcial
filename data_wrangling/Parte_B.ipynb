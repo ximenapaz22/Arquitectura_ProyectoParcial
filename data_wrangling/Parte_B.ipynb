{
 "cells": [
  {
   "cell_type": "markdown",
   "metadata": {},
   "source": [
    "## Parte B"
   ]
  },
  {
   "cell_type": "markdown",
   "metadata": {},
   "source": [
    "Para el catálogo de frutas y legumbres...\n",
    "\n",
    "NOTA: \n",
    "Se lee directo la tabla particionada para que no tener problemas con memoria ni tener queries costosos."
   ]
  },
  {
   "cell_type": "markdown",
   "metadata": {},
   "source": [
    "¿De qué año a qué año tienen datos de esa categoría?"
   ]
  },
  {
   "cell_type": "code",
   "execution_count": null,
   "metadata": {},
   "outputs": [],
   "source": [
    "SELECT \n",
    "    MIN(\"YEAR\") AS ANIO_INICIAL,\n",
    "    MAX(\"YEAR\") AS ANIO_FINAL\n",
    "FROM\n",
    "    profeco_db.profeco;"
   ]
  },
  {
   "cell_type": "markdown",
   "metadata": {},
   "source": [
    "¿Cuántos registros de fecha hay vacíos?"
   ]
  },
  {
   "cell_type": "code",
   "execution_count": null,
   "metadata": {},
   "outputs": [],
   "source": [
    "SELECT\n",
    "    COUNT(*)\n",
    "FROM\n",
    "    profeco_db.profeco\n",
    "WHERE\n",
    "    \"FECHAREGISTRO\" IS NULL;"
   ]
  },
  {
   "cell_type": "markdown",
   "metadata": {},
   "source": [
    "¿Cuántos registros tienes por año?"
   ]
  },
  {
   "cell_type": "code",
   "execution_count": null,
   "metadata": {},
   "outputs": [],
   "source": [
    "SELECT\n",
    "    \"YEAR\",\n",
    "    COUNT(*) AS REGISTROS\n",
    "FROM\n",
    "    profeco_db.profeco\n",
    "GROUP BY\n",
    "    \"YEAR\";"
   ]
  },
  {
   "cell_type": "markdown",
   "metadata": {},
   "source": [
    "¿Cuál es el precio mínimo, máximo, promedio, desviación estándar, mediana, cuantil 25 y 75% de tu categoría por año?"
   ]
  },
  {
   "cell_type": "code",
   "execution_count": null,
   "metadata": {},
   "outputs": [],
   "source": [
    "SELECT\n",
    "    \"YEAR\",\n",
    "    MIN(\"PRECIO\") AS MINIMO,\n",
    "    MAX(\"PRECIO\") AS MAXIMO,\n",
    "    AVG(\"PRECIO\") AS PROMEDIO,\n",
    "    STDDEV(\"PRECIO\") AS DESVIACION,\n",
    "    PERCENTILE_CONT(0.5) WITHIN GROUP (ORDER BY \"PRECIO\") AS MEDIANA,\n",
    "    PERCENTILE_CONT(0.25) WITHIN GROUP (ORDER BY \"PRECIO\") AS CUANTIL_25,\n",
    "    PERCENTILE_CONT(0.75) WITHIN GROUP (ORDER BY \"PRECIO\") AS CUANTIL_75\n",
    "FROM\n",
    "    profeco_db.profeco\n",
    "GROUP BY\n",
    "    \"YEAR\";"
   ]
  },
  {
   "cell_type": "markdown",
   "metadata": {},
   "source": [
    "¿Cuáles son el top 5 de marcas con mayor precio en cada estado? ¿Verifica si te dió lo mismo en Spark?"
   ]
  },
  {
   "cell_type": "code",
   "execution_count": null,
   "metadata": {},
   "outputs": [],
   "source": [
    "SELECT \n",
    "    \"ESTADO\",\n",
    "    \"PRODUCTO\",\n",
    "    \"PRECIO\"\n",
    "FROM\n",
    "    (\n",
    "        SELECT\n",
    "            \"ESTADO\",\n",
    "            \"PRODUCTO\",\n",
    "            \"PRECIO\",\n",
    "            ROW_NUMBER() OVER (PARTITION BY \"ESTADO\" ORDER BY \"PRECIO\" DESC) AS RN\n",
    "        FROM\n",
    "            profeco_db.profeco\n",
    "    )\n",
    "WHERE\n",
    "    RN <= 5;"
   ]
  },
  {
   "cell_type": "markdown",
   "metadata": {},
   "source": [
    "¿Cuáles son el top 5 de marcas con menor precio en CDMX? (en aquel entonces Distrito Federal) ¿Verifica si te dió lo mismo en Spark?"
   ]
  },
  {
   "cell_type": "code",
   "execution_count": null,
   "metadata": {},
   "outputs": [],
   "source": [
    "SELECT \n",
    "    \"ESTADO\",\n",
    "    \"PRODUCTO\",\n",
    "    \"PRECIO\"\n",
    "FROM\n",
    "    (\n",
    "        SELECT\n",
    "            \"ESTADO\",\n",
    "            \"PRODUCTO\",\n",
    "            \"PRECIO\",\n",
    "            ROW_NUMBER() OVER (PARTITION BY \"ESTADO\" ORDER BY \"PRECIO\" ASC) AS RN\n",
    "        FROM\n",
    "            profeco_db.profeco\n",
    "    )\n",
    "WHERE\n",
    "    RN <= 5 AND \"ESTADO\"='CIUDAD DE MEXICO';"
   ]
  },
  {
   "cell_type": "markdown",
   "metadata": {},
   "source": [
    "¿Cuáles son el top 5 de marcas con mayores observaciones? ¿Se parecen a las de nivel por estado? ¿Verifica si te dió lo mismo en Spark?"
   ]
  },
  {
   "cell_type": "code",
   "execution_count": null,
   "metadata": {},
   "outputs": [],
   "source": [
    "SELECT \n",
    "    \"PRODUCTO\",\n",
    "    COUNT(*) AS OBSERVACIONES\n",
    "FROM\n",
    "    profeco_db.profeco\n",
    "GROUP BY\n",
    "    \"PRODUCTO\"\n",
    "ORDER BY\n",
    "    OBSERVACIONES DESC\n",
    "LIMIT 5;"
   ]
  },
  {
   "cell_type": "markdown",
   "metadata": {},
   "source": [
    "Genera un boxplot por año, para cada una de las top 5 marcas de tu categoría."
   ]
  },
  {
   "cell_type": "code",
   "execution_count": null,
   "metadata": {},
   "outputs": [],
   "source": [
    "# Genera un boxplot por año, para cada una de los productos más caros\n"
   ]
  }
 ],
 "metadata": {
  "language_info": {
   "name": "python"
  }
 },
 "nbformat": 4,
 "nbformat_minor": 2
}
